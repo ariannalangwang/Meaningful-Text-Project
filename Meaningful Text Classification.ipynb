{
 "cells": [
  {
   "cell_type": "markdown",
   "metadata": {},
   "source": [
    "# Meaningful Text Classification  "
   ]
  },
  {
   "cell_type": "code",
   "execution_count": 1,
   "metadata": {
    "collapsed": true
   },
   "outputs": [],
   "source": [
    "import pandas as pd\n",
    "import numpy as np\n",
    "from random import randint\n",
    "import matplotlib.pyplot as plt\n",
    "import seaborn as sns\n",
    "from collections import Counter\n",
    "import re\n",
    "%matplotlib inline"
   ]
  },
  {
   "cell_type": "code",
   "execution_count": 2,
   "metadata": {
    "collapsed": true
   },
   "outputs": [],
   "source": [
    "from nltk.tokenize import word_tokenize\n",
    "from nltk.corpus import stopwords\n",
    "from nltk.stem import WordNetLemmatizer\n",
    "from nltk import FreqDist\n",
    "import spacy"
   ]
  },
  {
   "cell_type": "code",
   "execution_count": 3,
   "metadata": {
    "collapsed": true
   },
   "outputs": [],
   "source": [
    "from sklearn.feature_extraction.text import CountVectorizer, TfidfVectorizer\n",
    "from sklearn.utils.class_weight import compute_sample_weight \n",
    "from sklearn.naive_bayes import MultinomialNB\n",
    "from sklearn.linear_model import LogisticRegression\n",
    "from sklearn.ensemble import RandomForestClassifier\n",
    "from sklearn.decomposition import PCA\n",
    "from sklearn.cluster import KMeans\n",
    "from sklearn.pipeline import make_pipeline\n",
    "from imblearn.over_sampling import SMOTE\n",
    "from sklearn.preprocessing import StandardScaler\n",
    "from sklearn.model_selection import GridSearchCV, RandomizedSearchCV, cross_val_score, cross_val_predict \n",
    "from sklearn.metrics import classification_report, confusion_matrix"
   ]
  },
  {
   "cell_type": "code",
   "execution_count": 4,
   "metadata": {},
   "outputs": [
    {
     "name": "stderr",
     "output_type": "stream",
     "text": [
      "Using TensorFlow backend.\n"
     ]
    }
   ],
   "source": [
    "import keras\n",
    "from keras.layers import Dense, Conv1D, Flatten, Dropout, GlobalMaxPooling1D\n",
    "from keras.models import Sequential\n",
    "from keras.utils import to_categorical\n",
    "from keras.optimizers import SGD\n",
    "from keras.callbacks import EarlyStopping\n",
    "from keras.models import load_model"
   ]
  },
  {
   "cell_type": "code",
   "execution_count": 5,
   "metadata": {
    "collapsed": true
   },
   "outputs": [],
   "source": [
    "np.random.seed(101)"
   ]
  },
  {
   "cell_type": "code",
   "execution_count": 6,
   "metadata": {
    "collapsed": true
   },
   "outputs": [],
   "source": [
    "# Set plotting styles\n",
    "sns.set_style('white')  "
   ]
  },
  {
   "cell_type": "code",
   "execution_count": 7,
   "metadata": {
    "collapsed": true
   },
   "outputs": [],
   "source": [
    "# Read in raw data and set as a data frame: df1\n",
    "df1 = pd.read_csv('testProject_About.labeled.csv', header=None)"
   ]
  },
  {
   "cell_type": "code",
   "execution_count": 8,
   "metadata": {
    "collapsed": true
   },
   "outputs": [],
   "source": [
    "df1.columns = ['text', 'label', 'source', 'offsets' ]"
   ]
  },
  {
   "cell_type": "code",
   "execution_count": 9,
   "metadata": {
    "collapsed": true
   },
   "outputs": [],
   "source": [
    "# df1.info()"
   ]
  },
  {
   "cell_type": "code",
   "execution_count": 10,
   "metadata": {
    "collapsed": true,
    "scrolled": false
   },
   "outputs": [],
   "source": [
    "# df1.head()"
   ]
  },
  {
   "cell_type": "code",
   "execution_count": 11,
   "metadata": {
    "collapsed": true
   },
   "outputs": [],
   "source": [
    "# Read in raw data and set as a data frame: df2\n",
    "df2 = pd.read_csv('About.train_test_split.csv')"
   ]
  },
  {
   "cell_type": "code",
   "execution_count": 12,
   "metadata": {
    "collapsed": true
   },
   "outputs": [],
   "source": [
    "# df2.info()"
   ]
  },
  {
   "cell_type": "code",
   "execution_count": 13,
   "metadata": {
    "collapsed": true,
    "scrolled": false
   },
   "outputs": [],
   "source": [
    "# df2.head()"
   ]
  },
  {
   "cell_type": "code",
   "execution_count": 14,
   "metadata": {
    "collapsed": true
   },
   "outputs": [],
   "source": [
    "df = pd.merge(df1, df2, how='inner', on='source')"
   ]
  },
  {
   "cell_type": "code",
   "execution_count": 15,
   "metadata": {
    "scrolled": true
   },
   "outputs": [
    {
     "name": "stdout",
     "output_type": "stream",
     "text": [
      "<class 'pandas.core.frame.DataFrame'>\n",
      "Int64Index: 16721 entries, 0 to 16720\n",
      "Data columns (total 5 columns):\n",
      "text       16721 non-null object\n",
      "label      16721 non-null object\n",
      "source     16721 non-null object\n",
      "offsets    16721 non-null object\n",
      "set        16721 non-null object\n",
      "dtypes: object(5)\n",
      "memory usage: 783.8+ KB\n"
     ]
    }
   ],
   "source": [
    "df.info()"
   ]
  },
  {
   "cell_type": "code",
   "execution_count": 16,
   "metadata": {
    "collapsed": true
   },
   "outputs": [],
   "source": [
    "# df.head()"
   ]
  },
  {
   "cell_type": "code",
   "execution_count": 17,
   "metadata": {
    "collapsed": true
   },
   "outputs": [],
   "source": [
    "# Drop duplicate rows\n",
    "df = df.drop_duplicates()"
   ]
  },
  {
   "cell_type": "code",
   "execution_count": 18,
   "metadata": {},
   "outputs": [
    {
     "data": {
      "text/plain": [
       "None     14841\n",
       "About     1880\n",
       "Name: label, dtype: int64"
      ]
     },
     "execution_count": 18,
     "metadata": {},
     "output_type": "execute_result"
    }
   ],
   "source": [
    "# Balanced dataset?  \n",
    "df.label.value_counts()"
   ]
  },
  {
   "cell_type": "code",
   "execution_count": 19,
   "metadata": {
    "scrolled": true
   },
   "outputs": [
    {
     "data": {
      "text/plain": [
       "<matplotlib.axes._subplots.AxesSubplot at 0x1a1d5eca90>"
      ]
     },
     "execution_count": 19,
     "metadata": {},
     "output_type": "execute_result"
    },
    {
     "data": {
      "image/png": "[encoded data removed]",
      "text/plain": [
       "<matplotlib.figure.Figure at 0x1a1c3b0748>"
      ]
     },
     "metadata": {},
     "output_type": "display_data"
    }
   ],
   "source": [
    "sns.countplot(x=\"label\", data=df)"
   ]
  },
  {
   "cell_type": "markdown",
   "metadata": {},
   "source": [
    "The 'None' label has a lot more rows than the 'About' row, thus, we need to balance (resample) the data before \n",
    "fitting the data to a model."
   ]
  },
  {
   "cell_type": "markdown",
   "metadata": {},
   "source": [
    "----"
   ]
  },
  {
   "cell_type": "markdown",
   "metadata": {},
   "source": [
    "#### Text Pre-processing  "
   ]
  },
  {
   "cell_type": "code",
   "execution_count": 20,
   "metadata": {
    "collapsed": true
   },
   "outputs": [],
   "source": [
    "def preprocessing(text):\n",
    "    \"\"\"\n",
    "    Takes in a string, then performs the following:\n",
    "    1. Make all lower case\n",
    "    2. Keep only words (remove all punctuations, numbers, etc.)\n",
    "    3. Remove all stopwords\n",
    "    4. Lemmatize the remaining words\n",
    "    5. Join the characters again to form the string\n",
    "    5. Returns the cleaned text\n",
    "    \"\"\"\n",
    "    tokens = word_tokenize(text)\n",
    "    lower_tokens = [t.lower() for t in tokens]\n",
    "    alpha_only = [t for t in lower_tokens if t.isalpha()]  # Retain alphabetic words\n",
    "    no_stops = [t for t in alpha_only if t not in stopwords.words('english')] # Remove stop words\n",
    "    wordnet_lemmatizer = WordNetLemmatizer()  # Instantiate the WordNetLemmatizer\n",
    "    lemmatized = [wordnet_lemmatizer.lemmatize(t) for t in no_stops]  # Lemmatize all tokens into a new list \n",
    "    return ' '.join(lemmatized)"
   ]
  },
  {
   "cell_type": "code",
   "execution_count": 21,
   "metadata": {
    "collapsed": true
   },
   "outputs": [],
   "source": [
    "# Apply to df['text'] column\n",
    "df['clean_text'] = df['text'].apply(preprocessing)"
   ]
  },
  {
   "cell_type": "markdown",
   "metadata": {},
   "source": [
    "#### Visualize the most common words with label either 'About' or 'None'"
   ]
  },
  {
   "cell_type": "code",
   "execution_count": 22,
   "metadata": {
    "collapsed": true
   },
   "outputs": [],
   "source": [
    "# Make a Pandas series with cleaned text whose label is 'About'\n",
    "series_About = df.loc[df['label']=='About', 'clean_text']  "
   ]
  },
  {
   "cell_type": "code",
   "execution_count": 23,
   "metadata": {
    "collapsed": true
   },
   "outputs": [],
   "source": [
    "# Make a Pandas series with cleaned text whose label is 'None'\n",
    "series_None = df.loc[df['label']=='None', 'clean_text']  "
   ]
  },
  {
   "cell_type": "code",
   "execution_count": 24,
   "metadata": {
    "collapsed": true
   },
   "outputs": [],
   "source": [
    "# Make a frequent distribution of the words for the \"About\" rows\n",
    "txt = series_About.str.cat(sep=' ')\n",
    "words = word_tokenize(txt)\n",
    "word_dist_About = FreqDist(words)"
   ]
  },
  {
   "cell_type": "code",
   "execution_count": 25,
   "metadata": {
    "collapsed": true
   },
   "outputs": [],
   "source": [
    "# Make a frequent distribution of the words for the \"None\" rows\n",
    "txt = series_None.str.cat(sep=' ')\n",
    "words = word_tokenize(txt)\n",
    "word_dist_None = FreqDist(words)"
   ]
  },
  {
   "cell_type": "code",
   "execution_count": 26,
   "metadata": {
    "collapsed": true
   },
   "outputs": [],
   "source": [
    "# Get the top 20 most common words with \"About\" label:\n",
    "count_About = Counter(word_dist_About).most_common(20)  "
   ]
  },
  {
   "cell_type": "code",
   "execution_count": 27,
   "metadata": {
    "collapsed": true
   },
   "outputs": [],
   "source": [
    "# Get the top 20 most common words with \"None\" label:\n",
    "count_None = Counter(word_dist_None).most_common(20)  "
   ]
  },
  {
   "cell_type": "code",
   "execution_count": 28,
   "metadata": {
    "collapsed": true
   },
   "outputs": [],
   "source": [
    "names, values = zip(*count_About)"
   ]
  },
  {
   "cell_type": "code",
   "execution_count": 29,
   "metadata": {
    "collapsed": true
   },
   "outputs": [],
   "source": [
    "d = {'names': names, 'values': values}\n",
    "df_About = pd.DataFrame(data=d)"
   ]
  },
  {
   "cell_type": "code",
   "execution_count": 30,
   "metadata": {
    "scrolled": false
   },
   "outputs": [
    {
     "data": {
      "text/plain": [
       "Text(0,0.5,'Count')"
      ]
     },
     "execution_count": 30,
     "metadata": {},
     "output_type": "execute_result"
    },
    {
     "data": {
      "image/png": "[encoded data removed]",
      "text/plain": [
       "<matplotlib.figure.Figure at 0x1a29e01c88>"
      ]
     },
     "metadata": {},
     "output_type": "display_data"
    }
   ],
   "source": [
    "plt.figure(figsize=(18, 6))\n",
    "sns.barplot(x='names', y='values', data=df_About, palette='Reds_r')\n",
    "plt.title('Top 20 Most Common Words in the \"About\" Rows', fontsize=20)\n",
    "plt.xticks(rotation=45, fontsize=20)\n",
    "plt.yticks(fontsize=20)\n",
    "plt.xlabel(' ') \n",
    "plt.ylabel('Count', fontsize=20)"
   ]
  },
  {
   "cell_type": "code",
   "execution_count": 31,
   "metadata": {
    "collapsed": true
   },
   "outputs": [],
   "source": [
    "names, values = zip(*count_None)"
   ]
  },
  {
   "cell_type": "code",
   "execution_count": 32,
   "metadata": {
    "collapsed": true
   },
   "outputs": [],
   "source": [
    "d = {'names': names, 'values': values}\n",
    "df_None = pd.DataFrame(data=d)"
   ]
  },
  {
   "cell_type": "code",
   "execution_count": 33,
   "metadata": {},
   "outputs": [
    {
     "data": {
      "text/plain": [
       "Text(0,0.5,'Count')"
      ]
     },
     "execution_count": 33,
     "metadata": {},
     "output_type": "execute_result"
    },
    {
     "data": {
      "image/png": "[encoded data removed]",
      "text/plain": [
       "<matplotlib.figure.Figure at 0x1a29e346d8>"
      ]
     },
     "metadata": {},
     "output_type": "display_data"
    }
   ],
   "source": [
    "plt.figure(figsize=(18, 6))\n",
    "sns.barplot(x='names', y='values', data=df_None, palette='Blues_r')\n",
    "plt.title('Top 20 Most Common Words in the \"None\" Rows', fontsize=20)\n",
    "plt.xticks(rotation=45, fontsize=20)\n",
    "plt.yticks(fontsize=20)\n",
    "plt.xlabel(' ') \n",
    "plt.ylabel('Count', fontsize=20)"
   ]
  },
  {
   "cell_type": "code",
   "execution_count": 34,
   "metadata": {
    "collapsed": true
   },
   "outputs": [],
   "source": [
    "# Combine the two dataframes\n",
    "df_combined = pd.concat([df_About, df_None], axis=1)"
   ]
  },
  {
   "cell_type": "code",
   "execution_count": 35,
   "metadata": {
    "collapsed": true
   },
   "outputs": [],
   "source": [
    "df_combined.columns = ['About words', 'frequency', 'None words', 'frequency']"
   ]
  },
  {
   "cell_type": "code",
   "execution_count": 36,
   "metadata": {},
   "outputs": [
    {
     "data": {
      "text/html": [
       "<div>\n",
       "<style>\n",
       "    .dataframe thead tr:only-child th {\n",
       "        text-align: right;\n",
       "    }\n",
       "\n",
       "    .dataframe thead th {\n",
       "        text-align: left;\n",
       "    }\n",
       "\n",
       "    .dataframe tbody tr th {\n",
       "        vertical-align: top;\n",
       "    }\n",
       "</style>\n",
       "<table border=\"1\" class=\"dataframe\">\n",
       "  <thead>\n",
       "    <tr style=\"text-align: right;\">\n",
       "      <th></th>\n",
       "      <th>About words</th>\n",
       "      <th>frequency</th>\n",
       "      <th>None words</th>\n",
       "      <th>frequency</th>\n",
       "    </tr>\n",
       "  </thead>\n",
       "  <tbody>\n",
       "    <tr>\n",
       "      <th>0</th>\n",
       "      <td>company</td>\n",
       "      <td>358</td>\n",
       "      <td>company</td>\n",
       "      <td>876</td>\n",
       "    </tr>\n",
       "    <tr>\n",
       "      <th>1</th>\n",
       "      <td>service</td>\n",
       "      <td>354</td>\n",
       "      <td>u</td>\n",
       "      <td>781</td>\n",
       "    </tr>\n",
       "    <tr>\n",
       "      <th>2</th>\n",
       "      <td>solution</td>\n",
       "      <td>240</td>\n",
       "      <td>business</td>\n",
       "      <td>768</td>\n",
       "    </tr>\n",
       "    <tr>\n",
       "      <th>3</th>\n",
       "      <td>product</td>\n",
       "      <td>232</td>\n",
       "      <td>product</td>\n",
       "      <td>733</td>\n",
       "    </tr>\n",
       "    <tr>\n",
       "      <th>4</th>\n",
       "      <td>technology</td>\n",
       "      <td>211</td>\n",
       "      <td>technology</td>\n",
       "      <td>658</td>\n",
       "    </tr>\n",
       "    <tr>\n",
       "      <th>5</th>\n",
       "      <td>customer</td>\n",
       "      <td>209</td>\n",
       "      <td>service</td>\n",
       "      <td>611</td>\n",
       "    </tr>\n",
       "    <tr>\n",
       "      <th>6</th>\n",
       "      <td>energy</td>\n",
       "      <td>202</td>\n",
       "      <td>team</td>\n",
       "      <td>608</td>\n",
       "    </tr>\n",
       "    <tr>\n",
       "      <th>7</th>\n",
       "      <td>business</td>\n",
       "      <td>197</td>\n",
       "      <td>year</td>\n",
       "      <td>602</td>\n",
       "    </tr>\n",
       "    <tr>\n",
       "      <th>8</th>\n",
       "      <td>provide</td>\n",
       "      <td>149</td>\n",
       "      <td>experience</td>\n",
       "      <td>513</td>\n",
       "    </tr>\n",
       "    <tr>\n",
       "      <th>9</th>\n",
       "      <td>industry</td>\n",
       "      <td>146</td>\n",
       "      <td>management</td>\n",
       "      <td>496</td>\n",
       "    </tr>\n",
       "    <tr>\n",
       "      <th>10</th>\n",
       "      <td>management</td>\n",
       "      <td>133</td>\n",
       "      <td>development</td>\n",
       "      <td>473</td>\n",
       "    </tr>\n",
       "    <tr>\n",
       "      <th>11</th>\n",
       "      <td>quality</td>\n",
       "      <td>116</td>\n",
       "      <td>customer</td>\n",
       "      <td>464</td>\n",
       "    </tr>\n",
       "    <tr>\n",
       "      <th>12</th>\n",
       "      <td>market</td>\n",
       "      <td>112</td>\n",
       "      <td>new</td>\n",
       "      <td>410</td>\n",
       "    </tr>\n",
       "    <tr>\n",
       "      <th>13</th>\n",
       "      <td>system</td>\n",
       "      <td>111</td>\n",
       "      <td>energy</td>\n",
       "      <td>402</td>\n",
       "    </tr>\n",
       "    <tr>\n",
       "      <th>14</th>\n",
       "      <td>help</td>\n",
       "      <td>111</td>\n",
       "      <td>industry</td>\n",
       "      <td>383</td>\n",
       "    </tr>\n",
       "    <tr>\n",
       "      <th>15</th>\n",
       "      <td>client</td>\n",
       "      <td>105</td>\n",
       "      <td>university</td>\n",
       "      <td>378</td>\n",
       "    </tr>\n",
       "    <tr>\n",
       "      <th>16</th>\n",
       "      <td>leading</td>\n",
       "      <td>104</td>\n",
       "      <td>client</td>\n",
       "      <td>344</td>\n",
       "    </tr>\n",
       "    <tr>\n",
       "      <th>17</th>\n",
       "      <td>offer</td>\n",
       "      <td>103</td>\n",
       "      <td>work</td>\n",
       "      <td>344</td>\n",
       "    </tr>\n",
       "    <tr>\n",
       "      <th>18</th>\n",
       "      <td>new</td>\n",
       "      <td>99</td>\n",
       "      <td>solution</td>\n",
       "      <td>310</td>\n",
       "    </tr>\n",
       "    <tr>\n",
       "      <th>19</th>\n",
       "      <td>providing</td>\n",
       "      <td>98</td>\n",
       "      <td>also</td>\n",
       "      <td>309</td>\n",
       "    </tr>\n",
       "  </tbody>\n",
       "</table>\n",
       "</div>"
      ],
      "text/plain": [
       "   About words  frequency   None words  frequency\n",
       "0      company        358      company        876\n",
       "1      service        354            u        781\n",
       "2     solution        240     business        768\n",
       "3      product        232      product        733\n",
       "4   technology        211   technology        658\n",
       "5     customer        209      service        611\n",
       "6       energy        202         team        608\n",
       "7     business        197         year        602\n",
       "8      provide        149   experience        513\n",
       "9     industry        146   management        496\n",
       "10  management        133  development        473\n",
       "11     quality        116     customer        464\n",
       "12      market        112          new        410\n",
       "13      system        111       energy        402\n",
       "14        help        111     industry        383\n",
       "15      client        105   university        378\n",
       "16     leading        104       client        344\n",
       "17       offer        103         work        344\n",
       "18         new         99     solution        310\n",
       "19   providing         98         also        309"
      ]
     },
     "execution_count": 36,
     "metadata": {},
     "output_type": "execute_result"
    }
   ],
   "source": [
    "df_combined"
   ]
  },
  {
   "cell_type": "markdown",
   "metadata": {},
   "source": [
    "As you can see, the word lists are quite similar.  \n",
    "This makes classification harder to do..."
   ]
  },
  {
   "cell_type": "markdown",
   "metadata": {},
   "source": [
    "----\n",
    "##### Feature Engineer the length column"
   ]
  },
  {
   "cell_type": "code",
   "execution_count": 37,
   "metadata": {
    "collapsed": true,
    "scrolled": true
   },
   "outputs": [],
   "source": [
    "df['length'] = df['text'].apply(len)"
   ]
  },
  {
   "cell_type": "code",
   "execution_count": 38,
   "metadata": {},
   "outputs": [
    {
     "data": {
      "text/plain": [
       "array([<matplotlib.axes._subplots.AxesSubplot object at 0x1a29e3ad30>,\n",
       "       <matplotlib.axes._subplots.AxesSubplot object at 0x1a29ef1710>], dtype=object)"
      ]
     },
     "execution_count": 38,
     "metadata": {},
     "output_type": "execute_result"
    },
    {
     "data": {
      "image/png": "[encoded data removed]",
      "text/plain": [
       "<matplotlib.figure.Figure at 0x1a29ee9390>"
      ]
     },
     "metadata": {},
     "output_type": "display_data"
    }
   ],
   "source": [
    "# Compare Taxt length of the two classes:\n",
    "df.hist(column='length', by='label', bins=100, figsize=(20,4))"
   ]
  },
  {
   "cell_type": "markdown",
   "metadata": {},
   "source": [
    "----"
   ]
  },
  {
   "cell_type": "markdown",
   "metadata": {},
   "source": [
    "##### Feature Engineer Named Entity column:"
   ]
  },
  {
   "cell_type": "code",
   "execution_count": 39,
   "metadata": {
    "collapsed": true
   },
   "outputs": [],
   "source": [
    "# Instantiate the English model: nlp\n",
    "nlp = spacy.load('en', tagger=False, parser=False, matcher=False)"
   ]
  },
  {
   "cell_type": "code",
   "execution_count": 40,
   "metadata": {
    "collapsed": true
   },
   "outputs": [],
   "source": [
    "def tag_entity(text):\n",
    "    doc = nlp(text)\n",
    "    ents = [ent for ent in list(doc.ents) if ent.label_ == 'NORP' or ent.label_ == 'FAC' or ent.label_ == 'ORG' or ent.label_ == 'PRODUCT']\n",
    "    return ents "
   ]
  },
  {
   "cell_type": "markdown",
   "metadata": {},
   "source": [
    "#### Named entity List:\n",
    "![title](Named_Entity_list.png)"
   ]
  },
  {
   "cell_type": "code",
   "execution_count": 41,
   "metadata": {
    "collapsed": true
   },
   "outputs": [],
   "source": [
    "df['named_entity'] = df['text'].apply(tag_entity)"
   ]
  },
  {
   "cell_type": "code",
   "execution_count": 42,
   "metadata": {
    "collapsed": true
   },
   "outputs": [],
   "source": [
    "def preprocessing_light(lst):\n",
    "    text = str(lst)\n",
    "    tokens = word_tokenize(text)\n",
    "    alpha_only = [t for t in tokens if t.isalpha()]\n",
    "    no_stops = [t for t in alpha_only if t not in stopwords.words('english')]\n",
    "    return ' '.join(no_stops)"
   ]
  },
  {
   "cell_type": "code",
   "execution_count": 43,
   "metadata": {
    "collapsed": true
   },
   "outputs": [],
   "source": [
    "df['named_entity'] = df['named_entity'].apply(preprocessing_light)"
   ]
  },
  {
   "cell_type": "code",
   "execution_count": 44,
   "metadata": {
    "collapsed": true
   },
   "outputs": [],
   "source": [
    "# replace white_space with 'a'\n",
    "df['named_entity'] = df['named_entity'].replace(r'^\\s*$', 'a', regex=True)"
   ]
  },
  {
   "cell_type": "markdown",
   "metadata": {},
   "source": [
    "----\n",
    "##### Use count_vectorizer and tfidf_vectorizer to transform text into numerical matrix"
   ]
  },
  {
   "cell_type": "code",
   "execution_count": 45,
   "metadata": {
    "collapsed": true
   },
   "outputs": [],
   "source": [
    "# # NOTE: Both X and y must be series to use count_vectorizer and tfidf_vectorizer.\n",
    "# X = df['clean_text']\n",
    "# y = df.label"
   ]
  },
  {
   "cell_type": "code",
   "execution_count": 46,
   "metadata": {
    "collapsed": true
   },
   "outputs": [],
   "source": [
    "X_train = df.loc[df['set']=='train', 'clean_text']  \n",
    "y_train = df.loc[df['set']=='train', 'label']  \n",
    "X_test = df.loc[df['set']=='test', 'clean_text']  \n",
    "y_test = df.loc[df['set']=='test', 'label']  "
   ]
  },
  {
   "cell_type": "code",
   "execution_count": 47,
   "metadata": {
    "collapsed": true
   },
   "outputs": [],
   "source": [
    "# Initialize a CountVectorizer object: count_vectorizer\n",
    "count_vectorizer = CountVectorizer(stop_words='english')"
   ]
  },
  {
   "cell_type": "code",
   "execution_count": 48,
   "metadata": {
    "collapsed": true
   },
   "outputs": [],
   "source": [
    "# Transform the training data using only the 'text' column values: count_train \n",
    "count_train = count_vectorizer.fit_transform(X_train)"
   ]
  },
  {
   "cell_type": "code",
   "execution_count": 49,
   "metadata": {
    "collapsed": true
   },
   "outputs": [],
   "source": [
    "# Transform the test data using only the 'text' column values: count_test \n",
    "count_test = count_vectorizer.transform(X_test)"
   ]
  },
  {
   "cell_type": "markdown",
   "metadata": {
    "collapsed": true
   },
   "source": [
    "----\n",
    " "
   ]
  },
  {
   "cell_type": "code",
   "execution_count": 50,
   "metadata": {
    "collapsed": true
   },
   "outputs": [],
   "source": [
    "# Initialize a TfidfVectorizer object: tfidf_vectorizer\n",
    "tfidf_vectorizer = TfidfVectorizer(stop_words='english')"
   ]
  },
  {
   "cell_type": "code",
   "execution_count": 51,
   "metadata": {
    "collapsed": true
   },
   "outputs": [],
   "source": [
    "# Transform the training data: tfidf_train \n",
    "tfidf_train = tfidf_vectorizer.fit_transform(X_train)"
   ]
  },
  {
   "cell_type": "code",
   "execution_count": 52,
   "metadata": {
    "collapsed": true
   },
   "outputs": [],
   "source": [
    "# Transform the test data: tfidf_test \n",
    "tfidf_test = tfidf_vectorizer.transform(X_test)"
   ]
  },
  {
   "cell_type": "markdown",
   "metadata": {},
   "source": [
    "---"
   ]
  },
  {
   "cell_type": "markdown",
   "metadata": {},
   "source": [
    "##### 1st attempt to train the model: only use the 'clean_text' column with CountVectorizer and TfidfVectorizer"
   ]
  },
  {
   "cell_type": "code",
   "execution_count": 53,
   "metadata": {
    "collapsed": true
   },
   "outputs": [],
   "source": [
    "nb_classifier = MultinomialNB()"
   ]
  },
  {
   "cell_type": "code",
   "execution_count": 54,
   "metadata": {
    "collapsed": true
   },
   "outputs": [],
   "source": [
    "# Estimate sample weights by class for unbalanced datasets\n",
    "sample_weight = compute_sample_weight('balanced', y_train) "
   ]
  },
  {
   "cell_type": "code",
   "execution_count": 55,
   "metadata": {},
   "outputs": [
    {
     "data": {
      "text/plain": [
       "MultinomialNB(alpha=1.0, class_prior=None, fit_prior=True)"
      ]
     },
     "execution_count": 55,
     "metadata": {},
     "output_type": "execute_result"
    }
   ],
   "source": [
    "# Fit the classifier to the training data\n",
    "nb_classifier.fit(count_train, y_train, sample_weight=sample_weight)"
   ]
  },
  {
   "cell_type": "code",
   "execution_count": 56,
   "metadata": {
    "collapsed": true
   },
   "outputs": [],
   "source": [
    "# Create the predicted tags: pred\n",
    "pred = nb_classifier.predict(count_test)"
   ]
  },
  {
   "cell_type": "code",
   "execution_count": 57,
   "metadata": {
    "scrolled": true
   },
   "outputs": [
    {
     "name": "stdout",
     "output_type": "stream",
     "text": [
      "[[ 288   88]\n",
      " [ 836 2132]]\n"
     ]
    }
   ],
   "source": [
    "# Confusion_matrix\n",
    "print(confusion_matrix(y_test, pred))"
   ]
  },
  {
   "cell_type": "code",
   "execution_count": 58,
   "metadata": {
    "scrolled": true
   },
   "outputs": [
    {
     "name": "stdout",
     "output_type": "stream",
     "text": [
      "             precision    recall  f1-score   support\n",
      "\n",
      "      About       0.26      0.77      0.38       376\n",
      "       None       0.96      0.72      0.82      2968\n",
      "\n",
      "avg / total       0.88      0.72      0.77      3344\n",
      "\n"
     ]
    }
   ],
   "source": [
    "# Classification table\n",
    "print(classification_report(y_test, pred))"
   ]
  },
  {
   "cell_type": "markdown",
   "metadata": {},
   "source": [
    "Precision rate is very low for predicting the 'About' class. Not good."
   ]
  },
  {
   "cell_type": "markdown",
   "metadata": {
    "collapsed": true
   },
   "source": [
    "---\n",
    "Now, use tfidf:"
   ]
  },
  {
   "cell_type": "code",
   "execution_count": 59,
   "metadata": {
    "collapsed": true
   },
   "outputs": [],
   "source": [
    "# Create a Multinomial Naive Bayes classifier: nb_classifier\n",
    "nb_classifier = MultinomialNB()"
   ]
  },
  {
   "cell_type": "code",
   "execution_count": 60,
   "metadata": {
    "collapsed": true
   },
   "outputs": [],
   "source": [
    "# Estimate sample weights by class for unbalanced datasets\n",
    "sample_weight = compute_sample_weight('balanced', y_train) "
   ]
  },
  {
   "cell_type": "code",
   "execution_count": 61,
   "metadata": {},
   "outputs": [
    {
     "data": {
      "text/plain": [
       "MultinomialNB(alpha=1.0, class_prior=None, fit_prior=True)"
      ]
     },
     "execution_count": 61,
     "metadata": {},
     "output_type": "execute_result"
    }
   ],
   "source": [
    "# Fit the classifier to the training data\n",
    "nb_classifier.fit(tfidf_train, y_train, sample_weight=sample_weight)"
   ]
  },
  {
   "cell_type": "code",
   "execution_count": 62,
   "metadata": {
    "collapsed": true
   },
   "outputs": [],
   "source": [
    "# Create the predicted tags: pred\n",
    "pred = nb_classifier.predict(tfidf_test)"
   ]
  },
  {
   "cell_type": "code",
   "execution_count": 63,
   "metadata": {},
   "outputs": [
    {
     "name": "stdout",
     "output_type": "stream",
     "text": [
      "             precision    recall  f1-score   support\n",
      "\n",
      "      About       0.24      0.85      0.37       376\n",
      "       None       0.97      0.66      0.78      2968\n",
      "\n",
      "avg / total       0.89      0.68      0.74      3344\n",
      "\n"
     ]
    }
   ],
   "source": [
    "# Classification table\n",
    "print(classification_report(y_test, pred))"
   ]
  },
  {
   "cell_type": "markdown",
   "metadata": {},
   "source": [
    "Not surprisingly, the precision rate is still very low."
   ]
  },
  {
   "cell_type": "markdown",
   "metadata": {},
   "source": [
    "----\n",
    "##### Feature importance:"
   ]
  },
  {
   "cell_type": "code",
   "execution_count": 64,
   "metadata": {
    "collapsed": true
   },
   "outputs": [],
   "source": [
    "# Get the class labels: class_labels\n",
    "class_labels = nb_classifier.classes_"
   ]
  },
  {
   "cell_type": "code",
   "execution_count": 65,
   "metadata": {
    "collapsed": true
   },
   "outputs": [],
   "source": [
    "# Extract the features: feature_names\n",
    "feature_names = tfidf_vectorizer.get_feature_names()"
   ]
  },
  {
   "cell_type": "code",
   "execution_count": 66,
   "metadata": {
    "collapsed": true
   },
   "outputs": [],
   "source": [
    "# Zip the feature names together with the coefficient array and sort by weights: feat_with_weights\n",
    "feat_with_weights = sorted(zip(nb_classifier.coef_[0], feature_names))"
   ]
  },
  {
   "cell_type": "code",
   "execution_count": 67,
   "metadata": {
    "scrolled": true
   },
   "outputs": [
    {
     "name": "stdout",
     "output_type": "stream",
     "text": [
      "About [(-10.263992036084902, 'aardvarkcompare'), (-10.263992036084902, 'aberdeen'), (-10.263992036084902, 'acai'), (-10.263992036084902, 'acceptance'), (-10.263992036084902, 'accompanied'), (-10.263992036084902, 'accountably'), (-10.263992036084902, 'acoem'), (-10.263992036084902, 'adapter'), (-10.263992036084902, 'adgero'), (-10.263992036084902, 'administer'), (-10.263992036084902, 'adolescent'), (-10.263992036084902, 'advertisement'), (-10.263992036084902, 'aeroplane'), (-10.263992036084902, 'afford'), (-10.263992036084902, 'agendia'), (-10.263992036084902, 'aggregator'), (-10.263992036084902, 'agnostic'), (-10.263992036084902, 'agribusiness'), (-10.263992036084902, 'agrochemical'), (-10.263992036084902, 'aic')]\n"
     ]
    }
   ],
   "source": [
    "# Print the first class label ('About') and the top 20 feat_with_weights entries\n",
    "print(class_labels[0], feat_with_weights[:20])"
   ]
  },
  {
   "cell_type": "code",
   "execution_count": 68,
   "metadata": {
    "collapsed": true
   },
   "outputs": [],
   "source": [
    "About_features = feat_with_weights[:20]"
   ]
  },
  {
   "cell_type": "code",
   "execution_count": 69,
   "metadata": {},
   "outputs": [
    {
     "data": {
      "text/plain": [
       "[(-10.263992036084902, 'aardvarkcompare'),\n",
       " (-10.263992036084902, 'aberdeen'),\n",
       " (-10.263992036084902, 'acai'),\n",
       " (-10.263992036084902, 'acceptance'),\n",
       " (-10.263992036084902, 'accompanied'),\n",
       " (-10.263992036084902, 'accountably'),\n",
       " (-10.263992036084902, 'acoem'),\n",
       " (-10.263992036084902, 'adapter'),\n",
       " (-10.263992036084902, 'adgero'),\n",
       " (-10.263992036084902, 'administer'),\n",
       " (-10.263992036084902, 'adolescent'),\n",
       " (-10.263992036084902, 'advertisement'),\n",
       " (-10.263992036084902, 'aeroplane'),\n",
       " (-10.263992036084902, 'afford'),\n",
       " (-10.263992036084902, 'agendia'),\n",
       " (-10.263992036084902, 'aggregator'),\n",
       " (-10.263992036084902, 'agnostic'),\n",
       " (-10.263992036084902, 'agribusiness'),\n",
       " (-10.263992036084902, 'agrochemical'),\n",
       " (-10.263992036084902, 'aic')]"
      ]
     },
     "execution_count": 69,
     "metadata": {},
     "output_type": "execute_result"
    }
   ],
   "source": [
    "About_features"
   ]
  },
  {
   "cell_type": "code",
   "execution_count": 70,
   "metadata": {
    "collapsed": true
   },
   "outputs": [],
   "source": [
    "weights, words = zip(*About_features)"
   ]
  },
  {
   "cell_type": "code",
   "execution_count": 71,
   "metadata": {
    "collapsed": true
   },
   "outputs": [],
   "source": [
    "d = {'weigts': weights, 'words': words}\n",
    "df_About_features = pd.DataFrame(data=d)"
   ]
  },
  {
   "cell_type": "code",
   "execution_count": 72,
   "metadata": {},
   "outputs": [
    {
     "data": {
      "text/plain": [
       "Text(0,0.5,'Weight')"
      ]
     },
     "execution_count": 72,
     "metadata": {},
     "output_type": "execute_result"
    },
    {
     "data": {
      "image/png": "[encoded data removed]",
      "text/plain": [
       "<matplotlib.figure.Figure at 0x1a29ff61d0>"
      ]
     },
     "metadata": {},
     "output_type": "display_data"
    }
   ],
   "source": [
    "plt.figure(figsize=(18, 6))\n",
    "sns.barplot(x='words', y='weigts', data=df_About_features)\n",
    "plt.title('Top 20 Words in the \"About\" Rows with Highest Weights', fontsize=20)\n",
    "plt.xticks(rotation=45, fontsize=20)\n",
    "plt.yticks(fontsize=20)\n",
    "plt.xlabel(' ') \n",
    "plt.ylabel('Weight', fontsize=20)"
   ]
  },
  {
   "cell_type": "markdown",
   "metadata": {},
   "source": [
    "----"
   ]
  },
  {
   "cell_type": "markdown",
   "metadata": {},
   "source": [
    "##### 2nd attempt to train the model: use feature-engineered columns and a pipe containing PCA and random forest model:"
   ]
  },
  {
   "cell_type": "code",
   "execution_count": 73,
   "metadata": {
    "collapsed": true
   },
   "outputs": [],
   "source": [
    "X_train = df.loc[df['set']=='train', 'named_entity']  \n",
    "y_train = df.loc[df['set']=='train', 'label']  \n",
    "X_test = df.loc[df['set']=='test', 'named_entity']  \n",
    "y_test = df.loc[df['set']=='test', 'label']  "
   ]
  },
  {
   "cell_type": "code",
   "execution_count": 74,
   "metadata": {
    "collapsed": true
   },
   "outputs": [],
   "source": [
    "tfidf_vectorizer = TfidfVectorizer()"
   ]
  },
  {
   "cell_type": "code",
   "execution_count": 75,
   "metadata": {
    "collapsed": true
   },
   "outputs": [],
   "source": [
    "# Transform the training data:  \n",
    "tfidf_train = tfidf_vectorizer.fit_transform(X_train)"
   ]
  },
  {
   "cell_type": "code",
   "execution_count": 76,
   "metadata": {
    "collapsed": true
   },
   "outputs": [],
   "source": [
    "# Transform the test data:  \n",
    "tfidf_test = tfidf_vectorizer.transform(X_test)"
   ]
  },
  {
   "cell_type": "code",
   "execution_count": 77,
   "metadata": {
    "collapsed": true,
    "scrolled": false
   },
   "outputs": [],
   "source": [
    "# Create the tfidf_train DataFrame:  \n",
    "df_tfidf_train = pd.DataFrame(tfidf_train.A, columns=tfidf_vectorizer.get_feature_names())"
   ]
  },
  {
   "cell_type": "code",
   "execution_count": 78,
   "metadata": {
    "collapsed": true
   },
   "outputs": [],
   "source": [
    "df_length_train = df.loc[df['set']=='train', ['length']]\n",
    "df_length_test = df.loc[df['set']=='test', ['length']] "
   ]
  },
  {
   "cell_type": "code",
   "execution_count": 79,
   "metadata": {
    "collapsed": true
   },
   "outputs": [],
   "source": [
    "df_length_train = df_length_train.reset_index(drop=True)"
   ]
  },
  {
   "cell_type": "code",
   "execution_count": 80,
   "metadata": {
    "collapsed": true
   },
   "outputs": [],
   "source": [
    "X_train = pd.concat([df_tfidf_train, df_length_train], axis=1)"
   ]
  },
  {
   "cell_type": "code",
   "execution_count": 81,
   "metadata": {
    "collapsed": true
   },
   "outputs": [],
   "source": [
    "# Create the tfidf_test DataFrame:  \n",
    "df_tfidf_test = pd.DataFrame(tfidf_test.A, columns=tfidf_vectorizer.get_feature_names())"
   ]
  },
  {
   "cell_type": "code",
   "execution_count": 82,
   "metadata": {
    "collapsed": true
   },
   "outputs": [],
   "source": [
    "df_length_test = df_length_test.reset_index(drop=True)"
   ]
  },
  {
   "cell_type": "code",
   "execution_count": 83,
   "metadata": {
    "collapsed": true
   },
   "outputs": [],
   "source": [
    "X_test = pd.concat([df_tfidf_test, df_length_test], axis=1)"
   ]
  },
  {
   "cell_type": "code",
   "execution_count": 84,
   "metadata": {
    "collapsed": true
   },
   "outputs": [],
   "source": [
    "# Note: may be easier to convert all df's to matrices then use mat_A.hstack(mat_B) to combine the two matrices together.\n"
   ]
  },
  {
   "cell_type": "markdown",
   "metadata": {},
   "source": [
    "----"
   ]
  },
  {
   "cell_type": "code",
   "execution_count": 85,
   "metadata": {},
   "outputs": [
    {
     "data": {
      "text/plain": [
       "Pipeline(memory=None,\n",
       "     steps=[('standardscaler', StandardScaler(copy=True, with_mean=True, with_std=True)), ('pca', PCA(copy=True, iterated_power='auto', n_components=None, random_state=101,\n",
       "  svd_solver='auto', tol=0.0, whiten=False)), ('randomforestclassifier', RandomForestClassifier(bootstrap=True, class_weight=None, c...timators=10, n_jobs=1,\n",
       "            oob_score=False, random_state=101, verbose=0, warm_start=False))])"
      ]
     },
     "execution_count": 85,
     "metadata": {},
     "output_type": "execute_result"
    }
   ],
   "source": [
    "# Make a pipeline\n",
    "pipe = make_pipeline(StandardScaler(), PCA(random_state=101), RandomForestClassifier(random_state=101))  \n",
    "pipe"
   ]
  },
  {
   "cell_type": "code",
   "execution_count": 86,
   "metadata": {
    "collapsed": true
   },
   "outputs": [],
   "source": [
    "# Note: I don't seem to have enough CPU power to do grid search."
   ]
  },
  {
   "cell_type": "code",
   "execution_count": 87,
   "metadata": {
    "collapsed": true
   },
   "outputs": [],
   "source": [
    "# param_grid = dict(pca__n_components=[10,20,30], randomforestclassifier__n_estimators=[10,20,30])"
   ]
  },
  {
   "cell_type": "code",
   "execution_count": 88,
   "metadata": {
    "collapsed": true
   },
   "outputs": [],
   "source": [
    "# grid = GridSearchCV(pipe, param_grid=param_grid, verbose=2, n_jobs=-1)\n",
    "# grid.fit(X_train, y_train)"
   ]
  },
  {
   "cell_type": "code",
   "execution_count": 89,
   "metadata": {
    "collapsed": true
   },
   "outputs": [],
   "source": [
    "smo = SMOTE()\n",
    "X_resampled, y_resampled = smo.fit_sample(X_train, y_train)"
   ]
  },
  {
   "cell_type": "code",
   "execution_count": 90,
   "metadata": {
    "scrolled": true
   },
   "outputs": [
    {
     "data": {
      "text/plain": [
       "Pipeline(memory=None,\n",
       "     steps=[('standardscaler', StandardScaler(copy=True, with_mean=True, with_std=True)), ('pca', PCA(copy=True, iterated_power='auto', n_components=None, random_state=101,\n",
       "  svd_solver='auto', tol=0.0, whiten=False)), ('randomforestclassifier', RandomForestClassifier(bootstrap=True, class_weight=None, c...timators=10, n_jobs=1,\n",
       "            oob_score=False, random_state=101, verbose=0, warm_start=False))])"
      ]
     },
     "execution_count": 90,
     "metadata": {},
     "output_type": "execute_result"
    }
   ],
   "source": [
    "pipe.fit(X_resampled, y_resampled) "
   ]
  },
  {
   "cell_type": "code",
   "execution_count": 91,
   "metadata": {
    "collapsed": true
   },
   "outputs": [],
   "source": [
    "# Create the predicted tags: pred\n",
    "pred = pipe.predict(X_test)"
   ]
  },
  {
   "cell_type": "code",
   "execution_count": 92,
   "metadata": {},
   "outputs": [
    {
     "name": "stdout",
     "output_type": "stream",
     "text": [
      "             precision    recall  f1-score   support\n",
      "\n",
      "      About       0.24      0.43      0.31       376\n",
      "       None       0.92      0.83      0.87      2968\n",
      "\n",
      "avg / total       0.84      0.78      0.81      3344\n",
      "\n"
     ]
    }
   ],
   "source": [
    "# Classification table\n",
    "print(classification_report(y_test, pred))"
   ]
  },
  {
   "cell_type": "markdown",
   "metadata": {
    "collapsed": true
   },
   "source": [
    "Still bad on precision rate.   \n",
    "\n",
    "Ideas:   \n",
    "- train on the clean_text columns and the new engineered columns together.\n",
    "- use RandomizedSearchCV( ) or GridSearchCV( ) to get optimal hyperparameters. \n",
    "- (no computing power to do so on my laptop)"
   ]
  },
  {
   "cell_type": "markdown",
   "metadata": {},
   "source": [
    "----\n",
    "##### 3rd attempt to train the model: use deep learning (neural networks)"
   ]
  },
  {
   "cell_type": "markdown",
   "metadata": {},
   "source": [
    "##### Use count_vectorizer to transform text into numerical matrix"
   ]
  },
  {
   "cell_type": "code",
   "execution_count": 93,
   "metadata": {
    "collapsed": true
   },
   "outputs": [],
   "source": [
    "# Remind myself what df looks like:\n",
    "# df.head(1)"
   ]
  },
  {
   "cell_type": "code",
   "execution_count": 94,
   "metadata": {
    "collapsed": true
   },
   "outputs": [],
   "source": [
    "# Change target label to binary values\n",
    "df.loc[df['label']=='About', 'label'] = 1\n",
    "df.loc[df['label']=='None', 'label'] = 0"
   ]
  },
  {
   "cell_type": "code",
   "execution_count": 95,
   "metadata": {
    "collapsed": true
   },
   "outputs": [],
   "source": [
    "# Train test split\n",
    "X_train = df.loc[df['set']=='train', 'clean_text']  \n",
    "y_train = df.loc[df['set']=='train', 'label']  \n",
    "X_test = df.loc[df['set']=='test', 'clean_text']  \n",
    "y_test = df.loc[df['set']=='test', 'label']  "
   ]
  },
  {
   "cell_type": "code",
   "execution_count": 96,
   "metadata": {
    "collapsed": true
   },
   "outputs": [],
   "source": [
    "# Initialize a CountVectorizer object: count_vectorizer\n",
    "count_vectorizer = CountVectorizer(stop_words='english')"
   ]
  },
  {
   "cell_type": "code",
   "execution_count": 97,
   "metadata": {
    "collapsed": true
   },
   "outputs": [],
   "source": [
    "# Transform the training data using only the 'text' column values: count_train \n",
    "X_count_train = count_vectorizer.fit_transform(X_train)"
   ]
  },
  {
   "cell_type": "code",
   "execution_count": 98,
   "metadata": {
    "collapsed": true
   },
   "outputs": [],
   "source": [
    "# Transform the test data using only the 'text' column values: count_test \n",
    "X_count_test = count_vectorizer.transform(X_test)"
   ]
  },
  {
   "cell_type": "code",
   "execution_count": 99,
   "metadata": {
    "collapsed": true
   },
   "outputs": [],
   "source": [
    "# change to an array\n",
    "X_count_train = X_count_train.A\n",
    "X_count_test = X_count_test.A"
   ]
  },
  {
   "cell_type": "code",
   "execution_count": 100,
   "metadata": {
    "collapsed": true
   },
   "outputs": [],
   "source": [
    "# change to an array\n",
    "y_train = y_train.values\n",
    "y_test = y_test.values"
   ]
  },
  {
   "cell_type": "code",
   "execution_count": 101,
   "metadata": {
    "collapsed": true
   },
   "outputs": [],
   "source": [
    "# Convert the target to categorical (one-hot encoding)\n",
    "y_train = to_categorical(y_train)\n",
    "y_test = to_categorical(y_test)"
   ]
  },
  {
   "cell_type": "markdown",
   "metadata": {},
   "source": [
    "#### Note: since the multiple nodes in the hidden layers take care of the interactions between features, we don't need to do much feature engineering."
   ]
  },
  {
   "cell_type": "code",
   "execution_count": 102,
   "metadata": {
    "collapsed": true
   },
   "outputs": [],
   "source": [
    "n_cols = X_count_train.shape[1]"
   ]
  },
  {
   "cell_type": "code",
   "execution_count": 103,
   "metadata": {
    "collapsed": true
   },
   "outputs": [],
   "source": [
    "input_shape = (n_cols,)"
   ]
  },
  {
   "cell_type": "code",
   "execution_count": 104,
   "metadata": {
    "collapsed": true
   },
   "outputs": [],
   "source": [
    "# input_shape"
   ]
  },
  {
   "cell_type": "code",
   "execution_count": 105,
   "metadata": {
    "collapsed": true
   },
   "outputs": [],
   "source": [
    "# Specify the model\n",
    "model = Sequential()\n",
    "model.add(Dense(100, activation='relu', input_shape = input_shape))\n",
    "model.add(Dense(100, activation='relu'))\n",
    "model.add(Dense(2, activation='softmax'))"
   ]
  },
  {
   "cell_type": "code",
   "execution_count": 106,
   "metadata": {
    "collapsed": true
   },
   "outputs": [],
   "source": [
    "# Compile the model\n",
    "model.compile(optimizer='sgd', loss='categorical_crossentropy', metrics=['accuracy'])"
   ]
  },
  {
   "cell_type": "code",
   "execution_count": 107,
   "metadata": {
    "collapsed": true
   },
   "outputs": [],
   "source": [
    "# Define early_stopping_monitor\n",
    "early_stopping_monitor = EarlyStopping(patience=3)"
   ]
  },
  {
   "cell_type": "code",
   "execution_count": 108,
   "metadata": {
    "scrolled": false
   },
   "outputs": [
    {
     "name": "stdout",
     "output_type": "stream",
     "text": [
      "Train on 9363 samples, validate on 4014 samples\n",
      "Epoch 1/30\n",
      "9363/9363 [==============================] - 6s 667us/step - loss: 0.4217 - acc: 0.8850 - val_loss: 0.3615 - val_acc: 0.8814\n",
      "Epoch 2/30\n",
      "9363/9363 [==============================] - 5s 557us/step - loss: 0.3388 - acc: 0.8902 - val_loss: 0.3515 - val_acc: 0.8814\n",
      "Epoch 3/30\n",
      "9363/9363 [==============================] - 5s 542us/step - loss: 0.3283 - acc: 0.8902 - val_loss: 0.3407 - val_acc: 0.8814\n",
      "Epoch 4/30\n",
      "9363/9363 [==============================] - 5s 535us/step - loss: 0.3162 - acc: 0.8902 - val_loss: 0.3280 - val_acc: 0.8814\n",
      "Epoch 5/30\n",
      "9363/9363 [==============================] - 6s 647us/step - loss: 0.3020 - acc: 0.8902 - val_loss: 0.3140 - val_acc: 0.8814\n",
      "Epoch 6/30\n",
      "9363/9363 [==============================] - 5s 572us/step - loss: 0.2863 - acc: 0.8902 - val_loss: 0.3002 - val_acc: 0.8827\n",
      "Epoch 7/30\n",
      "9363/9363 [==============================] - 5s 569us/step - loss: 0.2710 - acc: 0.8916 - val_loss: 0.2886 - val_acc: 0.8842\n",
      "Epoch 8/30\n",
      "9363/9363 [==============================] - 5s 585us/step - loss: 0.2568 - acc: 0.8941 - val_loss: 0.2792 - val_acc: 0.8889\n",
      "Epoch 9/30\n",
      "9363/9363 [==============================] - 5s 540us/step - loss: 0.2443 - acc: 0.9006 - val_loss: 0.2739 - val_acc: 0.8909\n",
      "Epoch 10/30\n",
      "9363/9363 [==============================] - 6s 596us/step - loss: 0.2331 - acc: 0.9043 - val_loss: 0.2680 - val_acc: 0.8919\n",
      "Epoch 11/30\n",
      "9363/9363 [==============================] - 6s 618us/step - loss: 0.2230 - acc: 0.9085 - val_loss: 0.2650 - val_acc: 0.8936\n",
      "Epoch 12/30\n",
      "9363/9363 [==============================] - 5s 546us/step - loss: 0.2135 - acc: 0.9135 - val_loss: 0.2629 - val_acc: 0.8941\n",
      "Epoch 13/30\n",
      "9363/9363 [==============================] - 5s 566us/step - loss: 0.2044 - acc: 0.9174 - val_loss: 0.2615 - val_acc: 0.8929\n",
      "Epoch 14/30\n",
      "9363/9363 [==============================] - 5s 585us/step - loss: 0.1957 - acc: 0.9214 - val_loss: 0.2602 - val_acc: 0.8959\n",
      "Epoch 15/30\n",
      "9363/9363 [==============================] - 5s 513us/step - loss: 0.1873 - acc: 0.9249 - val_loss: 0.2590 - val_acc: 0.8951\n",
      "Epoch 16/30\n",
      "9363/9363 [==============================] - 5s 550us/step - loss: 0.1791 - acc: 0.9282 - val_loss: 0.2604 - val_acc: 0.8939\n",
      "Epoch 17/30\n",
      "9363/9363 [==============================] - 5s 540us/step - loss: 0.1712 - acc: 0.9326 - val_loss: 0.2598 - val_acc: 0.8944\n",
      "Epoch 18/30\n",
      "9363/9363 [==============================] - 5s 555us/step - loss: 0.1634 - acc: 0.9357 - val_loss: 0.2614 - val_acc: 0.8944\n"
     ]
    }
   ],
   "source": [
    "# Fit the model\n",
    "sgd_model = model.fit(X_count_train, y_train, epochs=30, validation_split=0.3, callbacks=[early_stopping_monitor], class_weight = 'balanced')\n"
   ]
  },
  {
   "cell_type": "code",
   "execution_count": 109,
   "metadata": {
    "collapsed": true
   },
   "outputs": [],
   "source": [
    "model.save('model_sgd.h5')"
   ]
  },
  {
   "cell_type": "code",
   "execution_count": 110,
   "metadata": {},
   "outputs": [
    {
     "name": "stdout",
     "output_type": "stream",
     "text": [
      "3344/3344 [==============================] - 1s 240us/step\n"
     ]
    },
    {
     "data": {
      "text/plain": [
       "[0.24404026015380922, 0.89772727272727271]"
      ]
     },
     "execution_count": 110,
     "metadata": {},
     "output_type": "execute_result"
    }
   ],
   "source": [
    "# Evaluate the model with (valuation_loss, valuation_accuracy):\n",
    "model.evaluate(X_count_test,y_test)"
   ]
  },
  {
   "cell_type": "code",
   "execution_count": 111,
   "metadata": {
    "collapsed": true
   },
   "outputs": [],
   "source": [
    "predictions = model.predict(X_count_test)"
   ]
  },
  {
   "cell_type": "code",
   "execution_count": 112,
   "metadata": {},
   "outputs": [
    {
     "data": {
      "text/plain": [
       "array([[ 0.940997  ,  0.05900303],\n",
       "       [ 0.9709838 ,  0.02901615],\n",
       "       [ 0.9735744 ,  0.02642557],\n",
       "       ..., \n",
       "       [ 0.87491274,  0.12508725],\n",
       "       [ 0.98084098,  0.01915901],\n",
       "       [ 0.99309158,  0.00690838]], dtype=float32)"
      ]
     },
     "execution_count": 112,
     "metadata": {},
     "output_type": "execute_result"
    }
   ],
   "source": [
    "predictions"
   ]
  },
  {
   "cell_type": "code",
   "execution_count": 113,
   "metadata": {
    "collapsed": true
   },
   "outputs": [],
   "source": [
    "# Convert predictions from probability to classification \n",
    "predictions_binary = (predictions >= 0.5).astype(np.int)"
   ]
  },
  {
   "cell_type": "code",
   "execution_count": 114,
   "metadata": {},
   "outputs": [
    {
     "name": "stdout",
     "output_type": "stream",
     "text": [
      "             precision    recall  f1-score   support\n",
      "\n",
      "          0       0.93      0.96      0.94      2968\n",
      "          1       0.57      0.39      0.46       376\n",
      "\n",
      "avg / total       0.88      0.90      0.89      3344\n",
      "\n"
     ]
    }
   ],
   "source": [
    "# Classification table\n",
    "print(classification_report(y_test, predictions_binary))"
   ]
  },
  {
   "cell_type": "code",
   "execution_count": 115,
   "metadata": {},
   "outputs": [
    {
     "data": {
      "text/plain": [
       "Text(0.5,0,'Epochs')"
      ]
     },
     "execution_count": 115,
     "metadata": {},
     "output_type": "execute_result"
    },
    {
     "data": {
      "image/png": "[encoded data removed]",
      "text/plain": [
       "<matplotlib.figure.Figure at 0x1a2a3fabe0>"
      ]
     },
     "metadata": {},
     "output_type": "display_data"
    }
   ],
   "source": [
    "# visualizing losses and accuracy\n",
    "train_loss = model.history.history['loss']\n",
    "val_loss   = model.history.history['val_loss']\n",
    "train_acc  = model.history.history['acc']\n",
    "val_acc    = model.history.history['val_acc']\n",
    "\n",
    "plt.figure(figsize=(14,6))\n",
    "plt.plot(train_loss, label='train_loss')\n",
    "plt.plot(val_loss, label='val_loss')\n",
    "plt.plot(train_acc, label='train_acc')\n",
    "plt.plot(val_acc, label='val_acc')\n",
    "plt.legend(loc='upper right', bbox_to_anchor=(1, 0.5), fontsize = 'large')\n",
    "plt.xlabel('Epochs', fontsize=15)"
   ]
  },
  {
   "cell_type": "markdown",
   "metadata": {},
   "source": [
    "Improved precision rate compared to previous models I trained.        \n",
    "Can play around with inputs to see if we can get better results.  \n",
    "- add regularization: model.add(Dropout(0.2)) \n",
    "- try different activation functions\n",
    "- try optimizer='adam'? Try different optimizers\n",
    "- more nodes, more hidden layers\n",
    "- find optimal learning rate"
   ]
  },
  {
   "cell_type": "markdown",
   "metadata": {},
   "source": [
    "----\n",
    "#### Find the best learning rate:"
   ]
  },
  {
   "cell_type": "code",
   "execution_count": 116,
   "metadata": {
    "collapsed": true
   },
   "outputs": [],
   "source": [
    "def get_new_model(input_shape = input_shape):\n",
    "    model = Sequential()\n",
    "    model.add(Dense(100, activation='relu', input_shape = input_shape))\n",
    "    model.add(Dense(100, activation='relu'))\n",
    "    model.add(Dense(2, activation='softmax'))\n",
    "    return(model)"
   ]
  },
  {
   "cell_type": "code",
   "execution_count": 117,
   "metadata": {
    "scrolled": false
   },
   "outputs": [
    {
     "name": "stdout",
     "output_type": "stream",
     "text": [
      "\n",
      "\n",
      "\n",
      "Testing model with learning rate: 0.000001\n",
      "\n",
      "             precision    recall  f1-score   support\n",
      "\n",
      "          0       0.89      0.91      0.90      2968\n",
      "          1       0.16      0.13      0.14       376\n",
      "\n",
      "avg / total       0.81      0.82      0.82      3344\n",
      "\n",
      "\n",
      "\n",
      "\n",
      "Testing model with learning rate: 0.010000\n",
      "\n",
      "             precision    recall  f1-score   support\n",
      "\n",
      "          0       0.92      0.96      0.94      2968\n",
      "          1       0.57      0.37      0.45       376\n",
      "\n",
      "avg / total       0.88      0.90      0.89      3344\n",
      "\n",
      "\n",
      "\n",
      "\n",
      "Testing model with learning rate: 1.000000\n",
      "\n",
      "             precision    recall  f1-score   support\n",
      "\n",
      "          0       0.92      0.95      0.94      2968\n",
      "          1       0.48      0.36      0.41       376\n",
      "\n",
      "avg / total       0.87      0.88      0.88      3344\n",
      "\n"
     ]
    }
   ],
   "source": [
    "# Create list of learning rates: lr_to_test\n",
    "lr_to_test = [.000001, 0.01, 1]\n",
    "\n",
    "# Loop over learning rates\n",
    "for lr in lr_to_test:\n",
    "    print('\\n\\n\\nTesting model with learning rate: %f\\n'%lr )\n",
    "    \n",
    "    # Build new model to test, unaffected by previous models\n",
    "    model = get_new_model()\n",
    "    \n",
    "    # Create SGD optimizer with specified learning rate: my_optimizer\n",
    "    my_optimizer = SGD(lr=lr)\n",
    "    \n",
    "    # Compile the model\n",
    "    model.compile(optimizer=my_optimizer, loss='categorical_crossentropy', metrics=['accuracy'])\n",
    "    \n",
    "    # Define early_stopping_monitor\n",
    "    early_stopping_monitor = EarlyStopping(patience=2)\n",
    "    \n",
    "    # Fit the model\n",
    "    sgd_model = model.fit(X_count_train, y_train, epochs=30, validation_split=0.3,  verbose=0, callbacks=[early_stopping_monitor])\n",
    "\n",
    "    # Make predictions\n",
    "    predictions = model.predict(X_count_test)\n",
    "    \n",
    "    \n",
    "    # Convert predictions from probability to classification \n",
    "    predictions_binary = (predictions >= 0.5).astype(np.int)\n",
    "\n",
    "    # Classification table\n",
    "    print(classification_report(y_test, predictions_binary))"
   ]
  },
  {
   "cell_type": "markdown",
   "metadata": {},
   "source": [
    "It seems that learning rate= 0.01 did the best."
   ]
  },
  {
   "cell_type": "markdown",
   "metadata": {},
   "source": [
    "----\n",
    "##### 4th attempt to train the model: use deep learning (CNN - convolutional neural networks)"
   ]
  },
  {
   "cell_type": "code",
   "execution_count": 118,
   "metadata": {},
   "outputs": [
    {
     "name": "stdout",
     "output_type": "stream",
     "text": [
      "(13377, 13029, 1)\n"
     ]
    }
   ],
   "source": [
    "# reshape X_count_train from 2D array to 3D array:\n",
    "X_count_train = X_count_train.reshape(X_count_train.shape[0], X_count_train.shape[1], 1)\n",
    "print(X_count_train.shape)"
   ]
  },
  {
   "cell_type": "code",
   "execution_count": 119,
   "metadata": {},
   "outputs": [
    {
     "name": "stdout",
     "output_type": "stream",
     "text": [
      "(3344, 13029, 1)\n"
     ]
    }
   ],
   "source": [
    "# reshape X_count_test from 2D array to 3D array:\n",
    "X_count_test = X_count_test.reshape(X_count_test.shape[0], X_count_test.shape[1], 1)\n",
    "print(X_count_test.shape)"
   ]
  },
  {
   "cell_type": "code",
   "execution_count": 120,
   "metadata": {
    "collapsed": true
   },
   "outputs": [],
   "source": [
    "# note: kernel_size: the length of the 1D convolution window."
   ]
  },
  {
   "cell_type": "code",
   "execution_count": 121,
   "metadata": {
    "scrolled": true
   },
   "outputs": [
    {
     "name": "stdout",
     "output_type": "stream",
     "text": [
      "_________________________________________________________________\n",
      "Layer (type)                 Output Shape              Param #   \n",
      "=================================================================\n",
      "conv1d_1 (Conv1D)            (None, 13028, 15)         45        \n",
      "_________________________________________________________________\n",
      "dropout_1 (Dropout)          (None, 13028, 15)         0         \n",
      "_________________________________________________________________\n",
      "conv1d_2 (Conv1D)            (None, 13027, 5)          155       \n",
      "_________________________________________________________________\n",
      "dropout_2 (Dropout)          (None, 13027, 5)          0         \n",
      "_________________________________________________________________\n",
      "flatten_1 (Flatten)          (None, 65135)             0         \n",
      "_________________________________________________________________\n",
      "dense_13 (Dense)             (None, 2)                 130272    \n",
      "=================================================================\n",
      "Total params: 130,472\n",
      "Trainable params: 130,472\n",
      "Non-trainable params: 0\n",
      "_________________________________________________________________\n"
     ]
    }
   ],
   "source": [
    "model = Sequential()\n",
    "\n",
    "# Add a convolutional layer (15 units)\n",
    "model.add(Conv1D(15, kernel_size=2, activation='relu', \n",
    "                 input_shape=(X_count_train.shape[1], 1)))\n",
    "\n",
    "# Add a dropout layer (regularization)\n",
    "model.add(Dropout(0.2))\n",
    "              \n",
    "# Add another convolutional layer (5 units)\n",
    "model.add(Conv1D(5, kernel_size=2, activation='relu'))\n",
    "\n",
    "# Add a dropout layer (regularization)\n",
    "model.add(Dropout(0.2))\n",
    "\n",
    "# Flatten and feed to output layer\n",
    "model.add(Flatten())\n",
    "model.add(Dense(2, activation='softmax'))\n",
    "\n",
    "# Summarize the model \n",
    "model.summary()"
   ]
  },
  {
   "cell_type": "code",
   "execution_count": 122,
   "metadata": {
    "collapsed": true
   },
   "outputs": [],
   "source": [
    "# Compile model\n",
    "model.compile(optimizer='adam', loss='categorical_crossentropy', metrics=['accuracy'])"
   ]
  },
  {
   "cell_type": "code",
   "execution_count": 123,
   "metadata": {
    "collapsed": true
   },
   "outputs": [],
   "source": [
    "# Define early_stopping_monitor\n",
    "early_stopping_monitor = EarlyStopping(patience=3)"
   ]
  },
  {
   "cell_type": "code",
   "execution_count": 124,
   "metadata": {},
   "outputs": [
    {
     "name": "stdout",
     "output_type": "stream",
     "text": [
      "Train on 9363 samples, validate on 4014 samples\n",
      "Epoch 1/30\n",
      "9363/9363 [==============================] - 93s 10ms/step - loss: 0.3176 - acc: 0.8903 - val_loss: 0.3499 - val_acc: 0.8767\n",
      "Epoch 2/30\n",
      "9363/9363 [==============================] - 68s 7ms/step - loss: 0.2011 - acc: 0.9226 - val_loss: 0.3076 - val_acc: 0.8946\n",
      "Epoch 3/30\n",
      "9363/9363 [==============================] - 68s 7ms/step - loss: 0.1347 - acc: 0.9475 - val_loss: 0.3771 - val_acc: 0.8916\n",
      "Epoch 4/30\n",
      "9363/9363 [==============================] - 73s 8ms/step - loss: 0.0955 - acc: 0.9650 - val_loss: 0.4246 - val_acc: 0.8804\n",
      "Epoch 5/30\n",
      "9363/9363 [==============================] - 73s 8ms/step - loss: 0.0693 - acc: 0.9755 - val_loss: 0.5044 - val_acc: 0.8792\n"
     ]
    }
   ],
   "source": [
    "# Fit the model to training data \n",
    "cnn_model = model.fit(X_count_train, y_train, epochs=30, validation_split=0.3, callbacks=[early_stopping_monitor])"
   ]
  },
  {
   "cell_type": "code",
   "execution_count": 125,
   "metadata": {},
   "outputs": [
    {
     "name": "stdout",
     "output_type": "stream",
     "text": [
      "3344/3344 [==============================] - 8s 2ms/step\n"
     ]
    },
    {
     "data": {
      "text/plain": [
       "[0.43978000297233388, 0.88726076555023925]"
      ]
     },
     "execution_count": 125,
     "metadata": {},
     "output_type": "execute_result"
    }
   ],
   "source": [
    "# Evaluate the model on test data: (valuation_loss, valuation_accuracy):\n",
    "model.evaluate(X_count_test,y_test)"
   ]
  },
  {
   "cell_type": "code",
   "execution_count": 126,
   "metadata": {
    "collapsed": true
   },
   "outputs": [],
   "source": [
    "predictions = model.predict(X_count_test)"
   ]
  },
  {
   "cell_type": "code",
   "execution_count": 127,
   "metadata": {},
   "outputs": [
    {
     "data": {
      "text/plain": [
       "array([[  9.85484898e-01,   1.45151019e-02],\n",
       "       [  8.81630838e-01,   1.18369147e-01],\n",
       "       [  9.96737421e-01,   3.26254382e-03],\n",
       "       ..., \n",
       "       [  2.59501133e-02,   9.74049866e-01],\n",
       "       [  9.88036156e-01,   1.19638480e-02],\n",
       "       [  9.99997139e-01,   2.91911715e-06]], dtype=float32)"
      ]
     },
     "execution_count": 127,
     "metadata": {},
     "output_type": "execute_result"
    }
   ],
   "source": [
    "predictions"
   ]
  },
  {
   "cell_type": "code",
   "execution_count": 128,
   "metadata": {
    "collapsed": true
   },
   "outputs": [],
   "source": [
    "# Convert predictions from probability to classification \n",
    "predictions_binary = (predictions >= 0.5).astype(np.int)"
   ]
  },
  {
   "cell_type": "code",
   "execution_count": 129,
   "metadata": {},
   "outputs": [
    {
     "name": "stdout",
     "output_type": "stream",
     "text": [
      "             precision    recall  f1-score   support\n",
      "\n",
      "          0       0.93      0.95      0.94      2968\n",
      "          1       0.50      0.41      0.45       376\n",
      "\n",
      "avg / total       0.88      0.89      0.88      3344\n",
      "\n"
     ]
    }
   ],
   "source": [
    "# Classification table\n",
    "print(classification_report(y_test, predictions_binary))"
   ]
  },
  {
   "cell_type": "code",
   "execution_count": 130,
   "metadata": {
    "scrolled": false
   },
   "outputs": [
    {
     "data": {
      "text/plain": [
       "Text(0.5,0,'Epochs')"
      ]
     },
     "execution_count": 130,
     "metadata": {},
     "output_type": "execute_result"
    },
    {
     "data": {
      "image/png": "[encoded data removed]",
      "text/plain": [
       "<matplotlib.figure.Figure at 0x1a2a573860>"
      ]
     },
     "metadata": {},
     "output_type": "display_data"
    }
   ],
   "source": [
    "# visualizing losses and accuracy\n",
    "train_loss = model.history.history['loss']\n",
    "val_loss   = model.history.history['val_loss']\n",
    "train_acc  = model.history.history['acc']\n",
    "val_acc    = model.history.history['val_acc']\n",
    "\n",
    "plt.figure(figsize=(14,6))\n",
    "plt.plot(train_loss, label='train_loss')\n",
    "plt.plot(val_loss, label='val_loss')\n",
    "plt.plot(train_acc, label='train_acc')\n",
    "plt.plot(val_acc, label='val_acc')\n",
    "plt.legend(loc='best', fontsize = 'large')\n",
    "plt.xlabel('Epochs', fontsize=15)"
   ]
  },
  {
   "cell_type": "markdown",
   "metadata": {},
   "source": [
    "Looks like the model is over-fitted. Need to decrease the number of epochs."
   ]
  },
  {
   "cell_type": "markdown",
   "metadata": {},
   "source": [
    "----\n",
    "### Are the labels for the target column accurate?\n",
    "If the labels for the target column are not accurate, it's not a good idea to use supervised learning algorithm.   \n",
    "Instead, let's use an unsupervised learning algorithm K Mean Clastering to classify the data.   \n"
   ]
  },
  {
   "cell_type": "markdown",
   "metadata": {},
   "source": [
    "##### 5th attempt to train the model: use unsupervised learning K-Mean Clustering:"
   ]
  },
  {
   "cell_type": "code",
   "execution_count": 131,
   "metadata": {
    "collapsed": true
   },
   "outputs": [],
   "source": [
    "# NOTE: Both X and y must be series in order to use count_vectorizer and tfidf_vectorizer.\n",
    "X = df['clean_text']\n",
    "y = df.label"
   ]
  },
  {
   "cell_type": "code",
   "execution_count": 132,
   "metadata": {
    "collapsed": true
   },
   "outputs": [],
   "source": [
    "# Initialize a CountVectorizer object: count_vectorizer\n",
    "count_vectorizer = CountVectorizer(stop_words='english')"
   ]
  },
  {
   "cell_type": "code",
   "execution_count": 133,
   "metadata": {
    "collapsed": true
   },
   "outputs": [],
   "source": [
    "# Transform the training data using only the 'text' column values: count_train \n",
    "X_count_train = count_vectorizer.fit_transform(X)"
   ]
  },
  {
   "cell_type": "code",
   "execution_count": 134,
   "metadata": {
    "collapsed": true
   },
   "outputs": [],
   "source": [
    "# change to an array\n",
    "X_count_train = X_count_train.A"
   ]
  },
  {
   "cell_type": "code",
   "execution_count": 135,
   "metadata": {
    "collapsed": true
   },
   "outputs": [],
   "source": [
    "# change y from pd.series to an array, also change dtype to 'int32'\n",
    "y = y.values\n",
    "y = y.astype('int32')"
   ]
  },
  {
   "cell_type": "code",
   "execution_count": 136,
   "metadata": {},
   "outputs": [
    {
     "data": {
      "text/plain": [
       "array([0, 1, 1, ..., 0, 0, 0], dtype=int32)"
      ]
     },
     "execution_count": 136,
     "metadata": {},
     "output_type": "execute_result"
    }
   ],
   "source": [
    "y"
   ]
  },
  {
   "cell_type": "code",
   "execution_count": 137,
   "metadata": {
    "collapsed": true
   },
   "outputs": [],
   "source": [
    "kmeans = KMeans(n_clusters=2, random_state=101)"
   ]
  },
  {
   "cell_type": "code",
   "execution_count": 138,
   "metadata": {},
   "outputs": [
    {
     "data": {
      "text/plain": [
       "KMeans(algorithm='auto', copy_x=True, init='k-means++', max_iter=300,\n",
       "    n_clusters=2, n_init=10, n_jobs=1, precompute_distances='auto',\n",
       "    random_state=101, tol=0.0001, verbose=0)"
      ]
     },
     "execution_count": 138,
     "metadata": {},
     "output_type": "execute_result"
    }
   ],
   "source": [
    "kmeans.fit(X_count_train)"
   ]
  },
  {
   "cell_type": "code",
   "execution_count": 139,
   "metadata": {},
   "outputs": [
    {
     "data": {
      "text/plain": [
       "array([[ -6.41034534e-18,   2.70507879e-04,   6.76269696e-05, ...,\n",
       "         -6.41034534e-18,  -6.41034534e-18,   6.76269696e-05],\n",
       "       [  5.17063082e-04,   9.62229428e-18,   2.40557357e-18, ...,\n",
       "          5.17063082e-04,   5.17063082e-04,   2.40557357e-18]])"
      ]
     },
     "execution_count": 139,
     "metadata": {},
     "output_type": "execute_result"
    }
   ],
   "source": [
    "# Cluster center vectors (2 only since n_clusters=2 )\n",
    "kmeans.cluster_centers_"
   ]
  },
  {
   "cell_type": "markdown",
   "metadata": {},
   "source": [
    "Evaluation:  \n",
    "\n",
    "There is no perfect way to evaluate clustering if we don't have the labels.     \n",
    "However since we have the labels,  we can evaluate our clusters.       \n",
    "( Keep in mind, we won't have this luxury in the real world. )\n"
   ]
  },
  {
   "cell_type": "code",
   "execution_count": 140,
   "metadata": {},
   "outputs": [
    {
     "name": "stdout",
     "output_type": "stream",
     "text": [
      "[[13500  1341]\n",
      " [ 1287   593]]\n",
      "             precision    recall  f1-score   support\n",
      "\n",
      "          0       0.91      0.91      0.91     14841\n",
      "          1       0.31      0.32      0.31      1880\n",
      "\n",
      "avg / total       0.84      0.84      0.84     16721\n",
      "\n"
     ]
    }
   ],
   "source": [
    "print(confusion_matrix(y,kmeans.labels_))\n",
    "print(classification_report(y,kmeans.labels_))"
   ]
  },
  {
   "cell_type": "markdown",
   "metadata": {},
   "source": [
    "Ok, the K-Mean Clustering model didn't fit well. At least with this try.    \n",
    "But again, if the labels are not accurate, we don't know whether the model fits well or not..."
   ]
  },
  {
   "cell_type": "markdown",
   "metadata": {},
   "source": [
    "----\n",
    "### Conclusion:\n",
    "Of all the models I fitted and evaluated, the Neural Networks model did the best.   \n",
    "Therefore, we should focus our energy on fine-tuning the Neural Networks model.\n"
   ]
  },
  {
   "cell_type": "code",
   "execution_count": null,
   "metadata": {
    "collapsed": true
   },
   "outputs": [],
   "source": []
  }
 ],
 "metadata": {
  "kernelspec": {
   "display_name": "Python 3",
   "language": "python",
   "name": "python3"
  },
  "language_info": {
   "codemirror_mode": {
    "name": "ipython",
    "version": 3
   },
   "file_extension": ".py",
   "mimetype": "text/x-python",
   "name": "python",
   "nbconvert_exporter": "python",
   "pygments_lexer": "ipython3",
   "version": "3.6.2"
  }
 },
 "nbformat": 4,
 "nbformat_minor": 2
}
